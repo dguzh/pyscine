{
 "cells": [
  {
   "cell_type": "code",
   "execution_count": null,
   "id": "26a240df-0e2a-4425-a5b8-266bb10dca72",
   "metadata": {},
   "outputs": [],
   "source": [
    "from pipeline import convert_pdfs, extract_text, identify_and_filter_locations, clean_and_geocode_locations, map_results"
   ]
  },
  {
   "cell_type": "code",
   "execution_count": null,
   "id": "341c1df7-5969-4858-b737-ae397e222efd",
   "metadata": {},
   "outputs": [],
   "source": [
    "convert_pdfs()"
   ]
  },
  {
   "cell_type": "code",
   "execution_count": null,
   "id": "53e77aea-1673-489a-94c1-b20b863a635c",
   "metadata": {},
   "outputs": [],
   "source": [
    "extract_text()"
   ]
  },
  {
   "cell_type": "code",
   "execution_count": null,
   "id": "7b683814-d6f6-43c2-994e-c780442b53ea",
   "metadata": {},
   "outputs": [],
   "source": [
    "identify_and_filter_locations()"
   ]
  },
  {
   "cell_type": "code",
   "execution_count": null,
   "id": "fca165d0-7548-4f9d-99b7-6c447aae7424",
   "metadata": {},
   "outputs": [],
   "source": [
    "api_key = 'XXXXXXXXXXXXXXXXXXXXXXXXXX'\n",
    "\n",
    "clean_and_geocode_locations(api_key)"
   ]
  },
  {
   "cell_type": "code",
   "execution_count": null,
   "id": "29c99afb-f756-4b48-a31c-33c4698a77f7",
   "metadata": {},
   "outputs": [],
   "source": [
    "map_results()"
   ]
  },
  {
   "cell_type": "code",
   "execution_count": null,
   "id": "4e387ea5-3945-471b-b455-4961e276c62e",
   "metadata": {},
   "outputs": [],
   "source": []
  }
 ],
 "metadata": {
  "kernelspec": {
   "display_name": "myvenv",
   "language": "python",
   "name": "myvenv"
  },
  "language_info": {
   "codemirror_mode": {
    "name": "ipython",
    "version": 3
   },
   "file_extension": ".py",
   "mimetype": "text/x-python",
   "name": "python",
   "nbconvert_exporter": "python",
   "pygments_lexer": "ipython3",
   "version": "3.11.0"
  }
 },
 "nbformat": 4,
 "nbformat_minor": 5
}
