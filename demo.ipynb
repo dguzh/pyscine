{
 "cells": [
  {
   "cell_type": "markdown",
   "id": "d3975f99-fcf9-4150-9c43-747ca4814633",
   "metadata": {},
   "source": [
    "## <center>Extracting and modeling geographic information from scientific articles [(Acheson \\& Purves 2021)](https://doi.org/10.1371/journal.pone.0244918)</center>\n",
    "#### <center>by Lear Gärtner, Diego Gomes, Andrea Martac, Elisa Plozza \\& Lea Vignò</center>"
   ]
  },
  {
   "cell_type": "markdown",
   "id": "4008b167-991f-4433-bd59-9cbdb407496f",
   "metadata": {},
   "source": [
    "In this demo you can experiment with extracting geographical information from a collection of scientific articles as PDFs. The code used in this notebook was taken from [Elise Acheson's Github repository](https://github.com/eacheson/pyscine) and has been slightly modified for the purpose of this demonstration.\n",
    "\n",
    "What you need to do:\n",
    "* Replace the placeholder API key with the one provided by us.\n",
    "* Enter the group number corresponding to your assigned topic.\n",
    "* Run the code cells from top to bottom and read the console outputs to understand what is happening.\n",
    "* Analyse the map. Does it match your expectations?"
   ]
  },
  {
   "cell_type": "code",
   "execution_count": null,
   "id": "26a240df-0e2a-4425-a5b8-266bb10dca72",
   "metadata": {},
   "outputs": [],
   "source": [
    "# Importing the individual components of the pipeline\n",
    "\n",
    "from pipeline import convert_pdfs, extract_text, identify_and_filter_locations, clean_and_geocode_locations, map_results"
   ]
  },
  {
   "cell_type": "code",
   "execution_count": null,
   "id": "384f4b43-7ddf-454e-9cab-155782e9499d",
   "metadata": {},
   "outputs": [],
   "source": [
    "# Enter a valid api key (don't forget the quotation marks)\n",
    "\n",
    "api_key = 'XXXXXXXXXXXXXXXXXXXXXXXXXXXXXXXXXXX'"
   ]
  },
  {
   "cell_type": "code",
   "execution_count": null,
   "id": "83a6f921-313a-41b0-9265-4d0eb6adab62",
   "metadata": {},
   "outputs": [],
   "source": [
    "# Enter your group number\n",
    "\n",
    "group_number = 0"
   ]
  },
  {
   "cell_type": "code",
   "execution_count": null,
   "id": "889a1967-e68d-474e-a1c8-6af23273cdf1",
   "metadata": {},
   "outputs": [],
   "source": [
    "# Your group number is mapped to the corresponding directory\n",
    "\n",
    "article_collections = {\n",
    "    0 : 'pdfs_demo',\n",
    "    1 : 'pdfs_natural_reserves',\n",
    "    2 : 'pdfs_yellow_fever_epidemic',\n",
    "    3 : 'pdfs_forest_fires',\n",
    "    4 : 'pdfs_chemical_industrial_accidents'\n",
    "}\n",
    "\n",
    "articles_dir = article_collections[group_number]"
   ]
  },
  {
   "cell_type": "code",
   "execution_count": null,
   "id": "341c1df7-5969-4858-b737-ae397e222efd",
   "metadata": {},
   "outputs": [],
   "source": [
    "# The PDFs are converted into a text- and XML file\n",
    "\n",
    "convert_pdfs(articles_dir)"
   ]
  },
  {
   "cell_type": "code",
   "execution_count": null,
   "id": "53e77aea-1673-489a-94c1-b20b863a635c",
   "metadata": {},
   "outputs": [],
   "source": [
    "# Text is extracted from the text- and XML file and structured\n",
    "\n",
    "extract_text(articles_dir)"
   ]
  },
  {
   "cell_type": "code",
   "execution_count": null,
   "id": "7b683814-d6f6-43c2-994e-c780442b53ea",
   "metadata": {},
   "outputs": [],
   "source": [
    "# Text is processed using NLTK, Stanford NER and predefined filter rules\n",
    "\n",
    "identify_and_filter_locations()"
   ]
  },
  {
   "cell_type": "code",
   "execution_count": null,
   "id": "fca165d0-7548-4f9d-99b7-6c447aae7424",
   "metadata": {},
   "outputs": [],
   "source": [
    "# Text is cleaned and geocoded using the Google Maps Geocoding API\n",
    "\n",
    "clean_and_geocode_locations(api_key)"
   ]
  },
  {
   "cell_type": "code",
   "execution_count": null,
   "id": "29c99afb-f756-4b48-a31c-33c4698a77f7",
   "metadata": {},
   "outputs": [],
   "source": [
    "# The locations are displayed on a map\n",
    "\n",
    "map_results()"
   ]
  },
  {
   "cell_type": "code",
   "execution_count": null,
   "id": "4e387ea5-3945-471b-b455-4961e276c62e",
   "metadata": {},
   "outputs": [],
   "source": []
  }
 ],
 "metadata": {
  "kernelspec": {
   "display_name": "myvenv",
   "language": "python",
   "name": "myvenv"
  },
  "language_info": {
   "codemirror_mode": {
    "name": "ipython",
    "version": 3
   },
   "file_extension": ".py",
   "mimetype": "text/x-python",
   "name": "python",
   "nbconvert_exporter": "python",
   "pygments_lexer": "ipython3",
   "version": "3.11.0"
  }
 },
 "nbformat": 4,
 "nbformat_minor": 5
}
