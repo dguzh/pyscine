{
 "cells": [
  {
   "cell_type": "markdown",
   "metadata": {},
   "source": [
    "# 4. Clean and geocode locations\n",
    "Clean and geocode (convert from strings to structured results, including geometries such as point coordinates) the locations found in the previous step."
   ]
  },
  {
   "cell_type": "code",
   "execution_count": null,
   "metadata": {},
   "outputs": [],
   "source": [
    "import os\n",
    "import re\n",
    "import pandas as pd\n",
    "\n",
    "# own files\n",
    "from pysci import docutils as du\n",
    "from pysci import geoparse as gp\n",
    "from pysci import geocode as gc"
   ]
  },
  {
   "cell_type": "markdown",
   "metadata": {},
   "source": [
    "### Preliminaries"
   ]
  },
  {
   "cell_type": "code",
   "execution_count": null,
   "metadata": {},
   "outputs": [],
   "source": [
    "path_to_content_locations = os.path.join('results', 'locations.tsv')\n",
    "df_locations = pd.read_csv(path_to_content_locations, sep='\\t', quotechar='\"', encoding='utf-8')\n",
    "df_locations.head()"
   ]
  },
  {
   "cell_type": "code",
   "execution_count": null,
   "metadata": {},
   "outputs": [],
   "source": [
    "# create googlemaps.Client object: you will need an API key for this!\n",
    "gmaps = gc.create_google_geocoder(api_key='YOURKEY')\n",
    "# cache so we don't re-query identical strings\n",
    "local_cache_google = {}\n",
    "# or load existing cache\n",
    "#local_cache_google = du.load_data('local_cache_google.pkl')\n",
    "#print(\"The cache has values for %s string keys.\" %len(local_cache_google))"
   ]
  },
  {
   "cell_type": "markdown",
   "metadata": {},
   "source": [
    "### Geocode locations"
   ]
  },
  {
   "cell_type": "code",
   "execution_count": null,
   "metadata": {},
   "outputs": [],
   "source": [
    "loc_clean = []\n",
    "loc_lats = []\n",
    "loc_lons = []\n",
    "loc_strings = []\n",
    "loc_types = []\n",
    "\n",
    "for content_location in df_locations['content_locations'].tolist():\n",
    "    if content_location == gp.NO_METHODS_STRING or content_location == gp.NO_LOCATIONS_STRING:\n",
    "        # don't geocode these but store placeholder strings\n",
    "        loc_clean.append(content_location)\n",
    "        loc_lats.append(content_location)\n",
    "        loc_lons.append(content_location)\n",
    "        loc_strings.append(content_location)\n",
    "        loc_types.append(content_location)\n",
    "        continue\n",
    "    clean_text = gc.clean_for_geocode(content_location)\n",
    "    loc_clean.append(clean_text)\n",
    "    #print(\"\\tgeocoding text: %s\" %clean_text)\n",
    "    top = gc.geocode_with_cache_google(clean_text, gmaps, local_cache_google)\n",
    "    if top:\n",
    "        # get point\n",
    "        geometry = top['geometry']\n",
    "        pt = geometry['location']\n",
    "        # store stuff\n",
    "        loc_lats.append(pt['lat'])\n",
    "        loc_lons.append(pt['lng'])\n",
    "        loc_strings.append(top['formatted_address'])\n",
    "        loc_types.append(geometry['location_type'])\n",
    "    else:\n",
    "        #print(\"\\tWe had no top result\")\n",
    "        loc_lats.append(gc.NO_RESULT_STRING)\n",
    "        loc_lons.append(gc.NO_RESULT_STRING)\n",
    "        loc_strings.append(gc.NO_RESULT_STRING)\n",
    "        loc_types.append(gc.NO_RESULT_STRING)\n",
    "\n",
    "print(\"Done.\")"
   ]
  },
  {
   "cell_type": "code",
   "execution_count": null,
   "metadata": {},
   "outputs": [],
   "source": [
    "# repickle the cache at the end...\n",
    "print(\"The cache now has values for %s string keys.\" %len(local_cache_google))\n",
    "du.pickle_data(local_cache_google, 'local_cache_google.pkl')"
   ]
  },
  {
   "cell_type": "markdown",
   "metadata": {},
   "source": [
    "### Tidy and export"
   ]
  },
  {
   "cell_type": "code",
   "execution_count": null,
   "metadata": {},
   "outputs": [],
   "source": [
    "df_locations['clean_content_loc'] = loc_clean\n",
    "df_locations['geocode_lat'] = loc_lats\n",
    "df_locations['geocode_lon'] = loc_lons\n",
    "df_locations['geocode_str'] = loc_strings\n",
    "df_locations['geocode_type'] = loc_types\n",
    "df_locations.head()"
   ]
  },
  {
   "cell_type": "code",
   "execution_count": null,
   "metadata": {},
   "outputs": [],
   "source": [
    "cols_in_order = ['filename', 'content_locations', 'clean_content_loc', 'geocode_str', 'geocode_type', \n",
    "                 'geocode_lat', 'geocode_lon', 'use_xml', 'location_sentences']\n",
    "df_locations_clean = df_locations.loc[:,cols_in_order]\n",
    "# export to file\n",
    "df_locations_clean.to_csv(os.path.join('results', 'locations_geocoded.tsv'), sep='\\t', index=False, quotechar='\"', encoding='utf-8')"
   ]
  },
  {
   "cell_type": "code",
   "execution_count": null,
   "metadata": {},
   "outputs": [],
   "source": []
  }
 ],
 "metadata": {
  "kernelspec": {
   "display_name": "myvenv",
   "language": "python",
   "name": "myvenv"
  },
  "language_info": {
   "codemirror_mode": {
    "name": "ipython",
    "version": 3
   },
   "file_extension": ".py",
   "mimetype": "text/x-python",
   "name": "python",
   "nbconvert_exporter": "python",
   "pygments_lexer": "ipython3",
   "version": "3.11.0"
  }
 },
 "nbformat": 4,
 "nbformat_minor": 4
}
