{
 "cells": [
  {
   "cell_type": "code",
   "execution_count": null,
   "id": "26a240df-0e2a-4425-a5b8-266bb10dca72",
   "metadata": {},
   "outputs": [],
   "source": [
    "from pipeline import convert_pdfs, extract_text, identify_and_filter_locations, clean_and_geocode_locations, map_results"
   ]
  },
  {
   "cell_type": "code",
   "execution_count": null,
   "id": "83a6f921-313a-41b0-9265-4d0eb6adab62",
   "metadata": {},
   "outputs": [],
   "source": [
    "group_number = 0"
   ]
  },
  {
   "cell_type": "code",
   "execution_count": null,
   "id": "384f4b43-7ddf-454e-9cab-155782e9499d",
   "metadata": {},
   "outputs": [],
   "source": [
    "api_key = 'XXXXXXXXXXXXXXXXXXXXXXXXXXXXXXXXXXX'"
   ]
  },
  {
   "cell_type": "code",
   "execution_count": null,
   "id": "889a1967-e68d-474e-a1c8-6af23273cdf1",
   "metadata": {},
   "outputs": [],
   "source": [
    "article_collections = {\n",
    "    0 : 'pdfs_demo',\n",
    "    1 : 'pdfs_natural_reserves',\n",
    "    2 : 'pdfs_yellow_fever_epidemic',\n",
    "    3 : 'pdfs_forest_fires',\n",
    "    4 : 'pdfs_chemical_industrial_accidents'\n",
    "}\n",
    "\n",
    "articles_dir = article_collections[group_number]"
   ]
  },
  {
   "cell_type": "code",
   "execution_count": null,
   "id": "341c1df7-5969-4858-b737-ae397e222efd",
   "metadata": {},
   "outputs": [],
   "source": [
    "convert_pdfs(articles_dir)"
   ]
  },
  {
   "cell_type": "code",
   "execution_count": null,
   "id": "53e77aea-1673-489a-94c1-b20b863a635c",
   "metadata": {},
   "outputs": [],
   "source": [
    "extract_text(articles_dir)"
   ]
  },
  {
   "cell_type": "code",
   "execution_count": null,
   "id": "7b683814-d6f6-43c2-994e-c780442b53ea",
   "metadata": {},
   "outputs": [],
   "source": [
    "identify_and_filter_locations()"
   ]
  },
  {
   "cell_type": "code",
   "execution_count": null,
   "id": "fca165d0-7548-4f9d-99b7-6c447aae7424",
   "metadata": {},
   "outputs": [],
   "source": [
    "clean_and_geocode_locations(api_key)"
   ]
  },
  {
   "cell_type": "code",
   "execution_count": null,
   "id": "29c99afb-f756-4b48-a31c-33c4698a77f7",
   "metadata": {},
   "outputs": [],
   "source": [
    "map_results()"
   ]
  },
  {
   "cell_type": "code",
   "execution_count": null,
   "id": "4e387ea5-3945-471b-b455-4961e276c62e",
   "metadata": {},
   "outputs": [],
   "source": []
  }
 ],
 "metadata": {
  "kernelspec": {
   "display_name": "myvenv",
   "language": "python",
   "name": "myvenv"
  },
  "language_info": {
   "codemirror_mode": {
    "name": "ipython",
    "version": 3
   },
   "file_extension": ".py",
   "mimetype": "text/x-python",
   "name": "python",
   "nbconvert_exporter": "python",
   "pygments_lexer": "ipython3",
   "version": "3.11.0"
  }
 },
 "nbformat": 4,
 "nbformat_minor": 5
}
