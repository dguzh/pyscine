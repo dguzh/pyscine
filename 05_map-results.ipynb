{
 "cells": [
  {
   "cell_type": "markdown",
   "metadata": {},
   "source": [
    "# 5. Map results\n",
    "Plot the coordinates we obtained from geocoding into a `folium` map."
   ]
  },
  {
   "cell_type": "code",
   "execution_count": null,
   "metadata": {},
   "outputs": [],
   "source": [
    "import pandas as pd\n",
    "import folium\n",
    "import os"
   ]
  },
  {
   "cell_type": "markdown",
   "metadata": {},
   "source": [
    "### Paths"
   ]
  },
  {
   "cell_type": "code",
   "execution_count": null,
   "metadata": {},
   "outputs": [],
   "source": [
    "df_results = pd.read_csv(os.path.join('results', 'locations_geocoded.tsv'), sep='\\t', quotechar='\"', encoding='utf-8')\n",
    "df_results"
   ]
  },
  {
   "cell_type": "code",
   "execution_count": null,
   "metadata": {},
   "outputs": [],
   "source": [
    "df_geocoded = df_results[pd.to_numeric(df_results.geocode_lat, errors='coerce').notnull()].copy()\n",
    "df_geocoded['lat_float'] = df_geocoded['geocode_lat'].astype(float)\n",
    "df_geocoded['lon_float'] = df_geocoded['geocode_lon'].astype(float)"
   ]
  },
  {
   "cell_type": "markdown",
   "metadata": {},
   "source": [
    "### Mapping functions"
   ]
  },
  {
   "cell_type": "code",
   "execution_count": null,
   "metadata": {},
   "outputs": [],
   "source": [
    "# function to show a text value for the geocode result, if present\n",
    "def geocode_eval_to_text(geocode_eval):\n",
    "    if geocode_eval == '1.0':\n",
    "        return 'correct'\n",
    "    elif geocode_eval == '0.0':\n",
    "        return 'incorrect'\n",
    "    elif geocode_eval == 'nan':\n",
    "        return 'upstream error'\n",
    "    else:\n",
    "        return geocode_eval\n",
    "\n",
    "# function to decide what goes in a map popup\n",
    "def to_html_string(row):\n",
    "    html = \"geocoded string: \" + str(row['clean_content_loc']) + \"<br>\"\n",
    "    html += \"result string: \" + str(row['geocode_str']) + \"<br>\"\n",
    "    html += \"result point: \" + str(row['geocode_lat']) + \", \" + str(row['geocode_lon']) + \"<br>\"\n",
    "    html += \"result type: \" + str(row['geocode_type']) + \"<br>\"\n",
    "    #html += \"geoparse eval: \" + str(row['eval_geoparse']) + \"<br>\"\n",
    "    #if str(row['error_analysis']) != 'nan':\n",
    "    #    html += \"error: \" + str(row['error_analysis']) + \"<br>\"\n",
    "    #html += \"geocode eval: \" + geocode_eval_to_text(str(row['eval_geocode'])) + \"<br>\"\n",
    "    #html += \"full pipeline eval: \" + str(row['eval_full_pipeline'])\n",
    "    return html\n",
    "\n",
    "# show the TP/FP in different colors, if evaluated\n",
    "def get_color(evaluation):\n",
    "    if evaluation == 'TP':\n",
    "        # blue\n",
    "        return '#3186cc'\n",
    "    elif evaluation == 'FP':\n",
    "        # red\n",
    "        return '#cc0000'\n",
    "    else:\n",
    "        # we had a different value than TP or FP\n",
    "        return '#cc0000'"
   ]
  },
  {
   "cell_type": "markdown",
   "metadata": {},
   "source": [
    "### Results map"
   ]
  },
  {
   "cell_type": "code",
   "execution_count": null,
   "metadata": {},
   "outputs": [],
   "source": [
    "country_geojson_url = 'https://d2ad6b4ur7yvpq.cloudfront.net/naturalearth-3.3.0/ne_110m_admin_0_countries.geojson'\n",
    "\n",
    "result_map = folium.Map(tiles=None, location=[30, 0], zoom_start=2)\n",
    "folium.GeoJson(\n",
    "    country_geojson_url,\n",
    "    style_function=lambda feature: {\n",
    "        'fillColor': 'white',\n",
    "        'color': 'black',\n",
    "        'weight': 1,\n",
    "        'fillOpacity': 0.7,\n",
    "    }\n",
    ").add_to(result_map)\n",
    "result_map\n",
    "\n",
    "for index, row in df_geocoded.iterrows():\n",
    "    lat = row['lat_float']\n",
    "    lon = row['lon_float']\n",
    "    html_for_popup = folium.Html(to_html_string(row), script=True)\n",
    "    html_popup = folium.Popup(html_for_popup, max_width=400)\n",
    "    folium.CircleMarker([lat,lon], \n",
    "                    radius=5,\n",
    "                    popup=html_popup,\n",
    "                    color=get_color('TP'),  # unevaluated\n",
    "                    fill_color=get_color('TP'),  # unevaluated\n",
    "                   ).add_to(result_map)\n",
    "result_map"
   ]
  },
  {
   "cell_type": "code",
   "execution_count": null,
   "metadata": {},
   "outputs": [],
   "source": [
    "# export map to an html file!\n",
    "result_map.save(os.path.join('maps', 'demo_result_map.html'))"
   ]
  },
  {
   "cell_type": "code",
   "execution_count": null,
   "metadata": {},
   "outputs": [],
   "source": []
  }
 ],
 "metadata": {
  "kernelspec": {
   "display_name": "myvenv",
   "language": "python",
   "name": "myvenv"
  },
  "language_info": {
   "codemirror_mode": {
    "name": "ipython",
    "version": 3
   },
   "file_extension": ".py",
   "mimetype": "text/x-python",
   "name": "python",
   "nbconvert_exporter": "python",
   "pygments_lexer": "ipython3",
   "version": "3.11.0"
  }
 },
 "nbformat": 4,
 "nbformat_minor": 4
}
